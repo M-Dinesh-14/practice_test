{
  "nbformat": 4,
  "nbformat_minor": 0,
  "metadata": {
    "colab": {
      "provenance": [],
      "authorship_tag": "ABX9TyN1qhFVWMkjPpJ/xXwJzYm4",
      "include_colab_link": true
    },
    "kernelspec": {
      "name": "python3",
      "display_name": "Python 3"
    },
    "language_info": {
      "name": "python"
    }
  },
  "cells": [
    {
      "cell_type": "markdown",
      "metadata": {
        "id": "view-in-github",
        "colab_type": "text"
      },
      "source": [
        "<a href=\"https://colab.research.google.com/github/M-Dinesh-14/practice_test/blob/main/practice4_python.ipynb\" target=\"_parent\"><img src=\"https://colab.research.google.com/assets/colab-badge.svg\" alt=\"Open In Colab\"/></a>"
      ]
    },
    {
      "cell_type": "markdown",
      "source": [
        "prime"
      ],
      "metadata": {
        "id": "8n68trLVs-rl"
      }
    },
    {
      "cell_type": "code",
      "source": [
        "class prime:\n",
        "  def __init__(self,num):\n",
        "    self.num = num\n",
        "    if num > 1:\n",
        "      for i in range(2, int(num/2) + 1):\n",
        "        if (num % i) == 0:\n",
        "          print(num,\"is not a prime number\")\n",
        "          break\n",
        "      else:\n",
        "        print(num,\"is a prime number\")\n",
        "num = int(input(\"enter the number\"))\n",
        "prime(num)"
      ],
      "metadata": {
        "colab": {
          "base_uri": "https://localhost:8080/"
        },
        "id": "MtlnattVtAIA",
        "outputId": "e6dabce1-367c-4fb1-d004-059f65988fcc"
      },
      "execution_count": null,
      "outputs": [
        {
          "output_type": "stream",
          "name": "stdout",
          "text": [
            "enter the number8\n",
            "8 is not a prime number\n"
          ]
        },
        {
          "output_type": "execute_result",
          "data": {
            "text/plain": [
              "<__main__.prime at 0x7f57501902e0>"
            ]
          },
          "metadata": {},
          "execution_count": 10
        }
      ]
    },
    {
      "cell_type": "code",
      "source": [],
      "metadata": {
        "id": "YMI9BVGot_87"
      },
      "execution_count": null,
      "outputs": []
    },
    {
      "cell_type": "markdown",
      "source": [
        "patten"
      ],
      "metadata": {
        "id": "D-7mgzmOubm9"
      }
    },
    {
      "cell_type": "code",
      "source": [
        "class patten:\n",
        "  def __init__(self,num):\n",
        "    self.num = num\n",
        "    for i in range(1,num+1):\n",
        "      for j in range(1,i+1):\n",
        "        print(j,end=\" \")\n",
        "      print()\n",
        "\n"
      ],
      "metadata": {
        "id": "yp9w-fAjudGl"
      },
      "execution_count": null,
      "outputs": []
    },
    {
      "cell_type": "code",
      "source": [
        "user = int(input(\"enter the number\"))\n",
        "patten(user)"
      ],
      "metadata": {
        "colab": {
          "base_uri": "https://localhost:8080/"
        },
        "id": "gWukjGHnu5Jh",
        "outputId": "a599b1ab-9aeb-4785-d73c-59e5b419d5f6"
      },
      "execution_count": null,
      "outputs": [
        {
          "output_type": "stream",
          "name": "stdout",
          "text": [
            "enter the number5\n",
            "1\n",
            "12\n",
            "123\n",
            "1234\n",
            "12345\n"
          ]
        },
        {
          "output_type": "execute_result",
          "data": {
            "text/plain": [
              "<__main__.patten at 0x7f573bf817b0>"
            ]
          },
          "metadata": {},
          "execution_count": 42
        }
      ]
    },
    {
      "cell_type": "markdown",
      "source": [
        "convert celsius to fahrenit."
      ],
      "metadata": {
        "id": "-rMqmwNVx2dG"
      }
    },
    {
      "cell_type": "code",
      "source": [
        "class celsius:\n",
        "  def __init__(self,num):\n",
        "    self.num = num\n",
        "    celsius = (num*9/5)+32\n",
        "    print(num)\n",
        "num = float(input(\"enter the celsius\"))\n",
        "celsius(num)"
      ],
      "metadata": {
        "colab": {
          "base_uri": "https://localhost:8080/"
        },
        "id": "VFEAmHbCxswH",
        "outputId": "18f1f5e2-dd31-41df-93ad-da15225993c2"
      },
      "execution_count": null,
      "outputs": [
        {
          "output_type": "stream",
          "name": "stdout",
          "text": [
            "enter the celsius55\n",
            "55.0\n"
          ]
        },
        {
          "output_type": "execute_result",
          "data": {
            "text/plain": [
              "<__main__.celsius at 0x7f573bf838b0>"
            ]
          },
          "metadata": {},
          "execution_count": 40
        }
      ]
    },
    {
      "cell_type": "markdown",
      "source": [
        "simple interest"
      ],
      "metadata": {
        "id": "XFgRRqUDzwTS"
      }
    },
    {
      "cell_type": "code",
      "source": [
        "class simple_interest:\n",
        "  def __init__(self,num,num1,num2):\n",
        "    self.num = num\n",
        "    self.num1 = num1\n",
        "    self.num2 = num2\n",
        "    simple_interest = (num*num1*num2)/100\n",
        "    print(simple_interest)\n",
        "num = int(input(\"enter the principal amount\"))\n",
        "num1 = int(input(\"enter the rate of interest\"))\n",
        "num2 = int(input(\"enter the time period\"))\n",
        "simple_interest(num,num1,num2)"
      ],
      "metadata": {
        "colab": {
          "base_uri": "https://localhost:8080/"
        },
        "id": "-jKJYE7m0QRC",
        "outputId": "b2e12bd9-aa89-4dc0-fb9f-e0850553405b"
      },
      "execution_count": null,
      "outputs": [
        {
          "output_type": "stream",
          "name": "stdout",
          "text": [
            "enter the principal amount56\n",
            "enter the rate of interest40\n",
            "enter the time period4\n",
            "89.6\n"
          ]
        },
        {
          "output_type": "execute_result",
          "data": {
            "text/plain": [
              "<__main__.simple_interest at 0x7f575018d540>"
            ]
          },
          "metadata": {},
          "execution_count": 44
        }
      ]
    },
    {
      "cell_type": "markdown",
      "source": [
        "integer into decimal number?"
      ],
      "metadata": {
        "id": "joYLNYER0oPH"
      }
    },
    {
      "cell_type": "code",
      "source": [
        "class integer:\n",
        "  def __init__(self,num):\n",
        "    self.num = num\n",
        "    a=float(num)\n",
        "    print(a)\n",
        "num = int(input(\"enter the number\"))\n",
        "integer(num)"
      ],
      "metadata": {
        "colab": {
          "base_uri": "https://localhost:8080/"
        },
        "id": "axFSLY3k0pWx",
        "outputId": "8e127edd-721f-449c-a974-fcc6165fa463"
      },
      "execution_count": null,
      "outputs": [
        {
          "output_type": "stream",
          "name": "stdout",
          "text": [
            "enter the number34\n",
            "34.0\n"
          ]
        },
        {
          "output_type": "execute_result",
          "data": {
            "text/plain": [
              "<__main__.integer at 0x7f573bf82380>"
            ]
          },
          "metadata": {},
          "execution_count": 48
        }
      ]
    },
    {
      "cell_type": "markdown",
      "source": [
        "number amstrong or not"
      ],
      "metadata": {
        "id": "_e2ul1XW077q"
      }
    },
    {
      "cell_type": "code",
      "source": [
        "class armstrong:\n",
        "  def __init__(self,num):\n",
        "    self.num = num\n",
        "    a = num\n",
        "    sum = 0\n",
        "    temp = num\n",
        "    while temp > 0:\n",
        "      digit = temp % 10\n",
        "      sum += digit ** 3\n",
        "      temp //= 10\n",
        "\n",
        "    if sum == a:\n",
        "      print(\" is armstrong\")\n",
        "    else:\n",
        "      print(\" is not armstrong\")\n",
        "\n",
        "num = int(input(\"enter the number\"))\n",
        "armstrong(num)"
      ],
      "metadata": {
        "colab": {
          "base_uri": "https://localhost:8080/"
        },
        "id": "Ybrs7XWV1FTq",
        "outputId": "dafdd328-a96c-4d2e-c509-05d91f064e75"
      },
      "execution_count": null,
      "outputs": [
        {
          "output_type": "stream",
          "name": "stdout",
          "text": [
            "enter the number153\n",
            " is armstrong\n"
          ]
        },
        {
          "output_type": "execute_result",
          "data": {
            "text/plain": [
              "<__main__.armstrong at 0x795d2efec370>"
            ]
          },
          "metadata": {},
          "execution_count": 25
        }
      ]
    },
    {
      "cell_type": "markdown",
      "source": [
        " duplicate numbers form the list"
      ],
      "metadata": {
        "id": "pgi_yBL7WCHk"
      }
    },
    {
      "cell_type": "code",
      "source": [
        "class duplicate:\n",
        "  def __init__(self,list):\n",
        "    self.list = list\n",
        "    list1 = []\n",
        "    for i in list:\n",
        "      if i in list1:\n",
        "        continue\n",
        "      else:\n",
        "        list1.append(i)\n",
        "    print(list1)\n",
        "\n",
        "list = [1,2,3,3,2,4,1,2,3]\n",
        "duplicate(list)"
      ],
      "metadata": {
        "colab": {
          "base_uri": "https://localhost:8080/"
        },
        "id": "YHPT5RQ0WDBo",
        "outputId": "48359e53-a789-44c6-9309-4fb31c40ec07"
      },
      "execution_count": null,
      "outputs": [
        {
          "output_type": "stream",
          "name": "stdout",
          "text": [
            "[1, 2, 3, 4]\n"
          ]
        },
        {
          "output_type": "execute_result",
          "data": {
            "text/plain": [
              "<__main__.duplicate at 0x795d2f043280>"
            ]
          },
          "metadata": {},
          "execution_count": 32
        }
      ]
    },
    {
      "cell_type": "markdown",
      "source": [
        "character is digit not"
      ],
      "metadata": {
        "id": "3DunGZ8IWRAV"
      }
    },
    {
      "cell_type": "code",
      "source": [
        "class character:\n",
        "  def __init__(self,char):\n",
        "    self.char = char\n",
        "    for i in char:\n",
        "      if i.isdigit():\n",
        "        print(i,\" = is digit\")\n",
        "      elif i.isalpha():\n",
        "        print(i,\" = is alpha\")\n",
        "char = input(\"enter the number:\")\n",
        "character(char)"
      ],
      "metadata": {
        "colab": {
          "base_uri": "https://localhost:8080/"
        },
        "id": "sFfm8nuCWSbQ",
        "outputId": "f11aa8fb-adc7-4e3d-ec54-78d57919635c"
      },
      "execution_count": null,
      "outputs": [
        {
          "output_type": "stream",
          "name": "stdout",
          "text": [
            "enter the number:d29\n",
            "d  = is alpha\n",
            "2  = is digit\n",
            "9  = is digit\n"
          ]
        },
        {
          "output_type": "execute_result",
          "data": {
            "text/plain": [
              "<__main__.character at 0x795d75c77250>"
            ]
          },
          "metadata": {},
          "execution_count": 35
        }
      ]
    },
    {
      "cell_type": "markdown",
      "source": [
        "GCD of two numbers\n"
      ],
      "metadata": {
        "id": "L1sywa0TWhMs"
      }
    },
    {
      "cell_type": "code",
      "source": [
        "class gcd:\n",
        "  def __init__(self,a,b):\n",
        "    self.a = a\n",
        "    self.b = b\n",
        "    while b != 0:\n",
        "      a, b = b, a % b\n",
        "    print(a)\n",
        "\n",
        "num1 = int(input(\"Enter the first number: \"))\n",
        "num2 = int(input(\"Enter the second number: \"))\n",
        "gcd(num1,num2)\n"
      ],
      "metadata": {
        "colab": {
          "base_uri": "https://localhost:8080/"
        },
        "id": "dL1oELTaWpwE",
        "outputId": "575c4379-5af7-4176-8d00-e2f89560987a"
      },
      "execution_count": null,
      "outputs": [
        {
          "output_type": "stream",
          "name": "stdout",
          "text": [
            "Enter the first number: 23\n",
            "Enter the second number: 21\n",
            "1\n"
          ]
        },
        {
          "output_type": "execute_result",
          "data": {
            "text/plain": [
              "<__main__.gcd at 0x795d6ca23d30>"
            ]
          },
          "metadata": {},
          "execution_count": 36
        }
      ]
    },
    {
      "cell_type": "markdown",
      "source": [
        " Replace character in place of space?"
      ],
      "metadata": {
        "id": "qcZr6HR4XA2p"
      }
    },
    {
      "cell_type": "code",
      "source": [
        "class replace:\n",
        "  def __init__(self,a,b):\n",
        "    self.a = a\n",
        "    self.b = b\n",
        "    replacing_c = b.replace(\" \", a)\n",
        "    print(replacing_c)\n",
        "\n",
        "a = input(\"Enter the string: \")\n",
        "b = input(\"Enter the replacing character: \")\n",
        "replace(a,b)"
      ],
      "metadata": {
        "colab": {
          "base_uri": "https://localhost:8080/"
        },
        "id": "X8hGGOcVXBpa",
        "outputId": "af202542-8a27-46db-9e41-9b44d00c6e78"
      },
      "execution_count": null,
      "outputs": [
        {
          "output_type": "stream",
          "name": "stdout",
          "text": [
            "Enter the string: 23\n",
            "Enter the replacing character: 76\n",
            "76\n"
          ]
        },
        {
          "output_type": "execute_result",
          "data": {
            "text/plain": [
              "<__main__.replace at 0x795d6ca661a0>"
            ]
          },
          "metadata": {},
          "execution_count": 37
        }
      ]
    },
    {
      "cell_type": "markdown",
      "source": [
        "Swap 2 numbers"
      ],
      "metadata": {
        "id": "npHNkCYeXRmK"
      }
    },
    {
      "cell_type": "code",
      "source": [
        "class swap:\n",
        "  def __init__(self,a,b):\n",
        "    self.a = a\n",
        "    self.b = b\n",
        "    a,b=b,a\n",
        "    print(a,b)\n",
        "\n",
        "a=input(\"enter the number\")\n",
        "b=input(\"enter the number\")\n",
        "swap(a,b)"
      ],
      "metadata": {
        "colab": {
          "base_uri": "https://localhost:8080/"
        },
        "id": "N9cJuCsjXSUQ",
        "outputId": "ba141bda-ad3d-45b2-cc1b-666f08d5fa58"
      },
      "execution_count": null,
      "outputs": [
        {
          "output_type": "stream",
          "name": "stdout",
          "text": [
            "enter the number23\n",
            "enter the number45\n",
            "45 23\n"
          ]
        },
        {
          "output_type": "execute_result",
          "data": {
            "text/plain": [
              "<__main__.swap at 0x795d6ca66440>"
            ]
          },
          "metadata": {},
          "execution_count": 39
        }
      ]
    },
    {
      "cell_type": "markdown",
      "source": [
        " add 2 numbers"
      ],
      "metadata": {
        "id": "n8lvjqvyXnTM"
      }
    },
    {
      "cell_type": "code",
      "source": [
        "\n",
        "\n",
        "class add:\n",
        "  def __init__(self,sum):\n",
        "    self.sum = sum\n",
        "    total=sum([a,b])\n",
        "    print(f\"3 {total}\")\n",
        "\n",
        "a=int(input(\"enter the number\"))\n",
        "b=int(input(\"enter the number\"))\n",
        "add(sum)\n"
      ],
      "metadata": {
        "colab": {
          "base_uri": "https://localhost:8080/"
        },
        "id": "G6OTFUA5Xoeb",
        "outputId": "cee1c3bd-ff11-429d-86b3-94ca49470fc1"
      },
      "execution_count": null,
      "outputs": [
        {
          "output_type": "stream",
          "name": "stdout",
          "text": [
            "enter the number3\n",
            "enter the number3\n",
            "3 6\n"
          ]
        },
        {
          "output_type": "execute_result",
          "data": {
            "text/plain": [
              "<__main__.add at 0x7b3f4b91dc30>"
            ]
          },
          "metadata": {},
          "execution_count": 19
        }
      ]
    },
    {
      "cell_type": "markdown",
      "source": [
        "first non repeating occurence."
      ],
      "metadata": {
        "id": "CedTjQq6cE5z"
      }
    },
    {
      "cell_type": "code",
      "source": [
        "class nonrepeating:\n",
        "  def __init__(self,a):\n",
        "    self.a = a\n",
        "    for i in a:\n",
        "      if a.count(i)==1:\n",
        "        print(f'{i} is the first non-repeating of the string')\n",
        "\n",
        "a = input(\"Enter the string: \")\n",
        "nonrepeating(a)"
      ],
      "metadata": {
        "colab": {
          "base_uri": "https://localhost:8080/"
        },
        "id": "FMCujsVscHCy",
        "outputId": "e08d67da-fac5-41f7-88f5-422c0fc6d315"
      },
      "execution_count": null,
      "outputs": [
        {
          "output_type": "stream",
          "name": "stdout",
          "text": [
            "Enter the string: 121\n",
            "2 is the first non-repeating of the string\n"
          ]
        },
        {
          "output_type": "execute_result",
          "data": {
            "text/plain": [
              "<__main__.nonrepeating at 0x7b3f4b5c7b50>"
            ]
          },
          "metadata": {},
          "execution_count": 21
        }
      ]
    }
  ]
}