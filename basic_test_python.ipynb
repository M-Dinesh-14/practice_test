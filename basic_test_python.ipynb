{
  "nbformat": 4,
  "nbformat_minor": 0,
  "metadata": {
    "colab": {
      "provenance": [],
      "authorship_tag": "ABX9TyPL4etUfec7QQ/zVxfkkVLU",
      "include_colab_link": true
    },
    "kernelspec": {
      "name": "python3",
      "display_name": "Python 3"
    },
    "language_info": {
      "name": "python"
    }
  },
  "cells": [
    {
      "cell_type": "markdown",
      "metadata": {
        "id": "view-in-github",
        "colab_type": "text"
      },
      "source": [
        "<a href=\"https://colab.research.google.com/github/M-Dinesh-14/practice_test/blob/main/basic_test_python.ipynb\" target=\"_parent\"><img src=\"https://colab.research.google.com/assets/colab-badge.svg\" alt=\"Open In Colab\"/></a>"
      ]
    },
    {
      "cell_type": "code",
      "execution_count": null,
      "metadata": {
        "id": "ofhJ1rFMOWyI"
      },
      "outputs": [],
      "source": []
    },
    {
      "cell_type": "markdown",
      "source": [
        "1) What is python and why it is popular?\n",
        "\n",
        " python is object-oriented langunge and the langunge is used to understand easy read and write the program easy. python langunge it simlier to  english langunge.\n",
        "  * we mainly use python langunge because the python is esaly understand and easly read and write the program. it will convert easly to mechine langunge.\n"
      ],
      "metadata": {
        "id": "I2xKLRFOOXg8"
      }
    },
    {
      "cell_type": "markdown",
      "source": [
        "2) What is an IDE and name a few popular Python IDEs?\n",
        "\n",
        "IDE is defind as Integrated Development Environment, is a software application that combines many tools for writing, testing, and debugging code into one place.\n",
        "\n",
        " IDEs can increase programmer productivity by streamlining the development process.\n",
        " # python ide's are:-\n",
        "* google coolab\n",
        "* juypter\n",
        "* spyder"
      ],
      "metadata": {
        "id": "lLUpqFLOJ2b7"
      }
    },
    {
      "cell_type": "markdown",
      "source": [
        "3) What are the rules for naming variables in python?\n",
        "\n",
        "A)\n",
        "   *  the variable will starts with alphabits.\n",
        "   * it should not start with numbers\n",
        "   * we can't use keywords .\n",
        "   * it is case senstive.\n",
        "   * can't use speacl charecter expeat(_)"
      ],
      "metadata": {
        "id": "iFkUQN9yPoFz"
      }
    },
    {
      "cell_type": "markdown",
      "source": [
        "4)  How do you assign multiple values to multiple variables in a single line?\n",
        "\n",
        "A)\n",
        "  * yes we can assig multiple values in multiple variables ina a single line by using mutli to mutli varible\n",
        "  \n",
        "  there are two types\n",
        "\n",
        "  * single line\n",
        "  * multi line\n",
        "  \n",
        "   1) multi to single.\n",
        "\n",
        "   2) multi to multi"
      ],
      "metadata": {
        "id": "T7glKsjPQp3G"
      }
    },
    {
      "cell_type": "code",
      "source": [
        "(a,b,c)=(1,2,3)\n",
        "print(a,b,c)"
      ],
      "metadata": {
        "colab": {
          "base_uri": "https://localhost:8080/"
        },
        "id": "vVAodkVbRhwG",
        "outputId": "1c2fde3b-a2c0-42bc-f42a-ebc4381b5066"
      },
      "execution_count": null,
      "outputs": [
        {
          "output_type": "stream",
          "name": "stdout",
          "text": [
            "1 2 3\n"
          ]
        }
      ]
    },
    {
      "cell_type": "markdown",
      "source": [
        " 5) Can you use Python keywords as variable names? Why or why not?\n",
        "\n",
        "  * No we can not use keyword as variable name.becaues if we use the keyword of variable the progarm can't access the varible\n",
        "  * the variable can use only alphabits\n",
        "  * we can use only one specil charcter (-)\n",
        "  * it agients the rule of creating a variable."
      ],
      "metadata": {
        "id": "1tkXtpYWR5hv"
      }
    },
    {
      "cell_type": "markdown",
      "source": [
        "6) Why are comments important in programming?\n",
        "\n",
        "A)\n",
        "  the comments is used to defined the code of the program.\n",
        "  \n",
        "  by the comments we can easly understand the others code and easly convert in to our program."
      ],
      "metadata": {
        "id": "s5s8StTIS5Zy"
      }
    },
    {
      "cell_type": "code",
      "source": [
        "a= 10\n",
        "b= 20\n",
        "# using addition to add the to variables\n",
        "c= a+b\n",
        "print(c)"
      ],
      "metadata": {
        "colab": {
          "base_uri": "https://localhost:8080/"
        },
        "id": "So39NSHTT6v7",
        "outputId": "d69a5db6-84a4-45f8-9a2f-73a5618a4843"
      },
      "execution_count": null,
      "outputs": [
        {
          "output_type": "stream",
          "name": "stdout",
          "text": [
            "30\n"
          ]
        }
      ]
    },
    {
      "cell_type": "markdown",
      "source": [
        "7) What are the basic data types in Python?\n",
        "\n",
        "A) the basic data types are 4-type\n",
        "\n",
        "  there are- integer,float,complex,boolen."
      ],
      "metadata": {
        "id": "TppP1kNCTnGc"
      }
    },
    {
      "cell_type": "code",
      "source": [
        "#Integer- number or digits.\n",
        "a=(1,2,3)\n",
        "print(type(a))"
      ],
      "metadata": {
        "colab": {
          "base_uri": "https://localhost:8080/"
        },
        "id": "1DsymI0ZT4wl",
        "outputId": "1816f387-a4b7-47e1-cc00-881f1c108d63"
      },
      "execution_count": null,
      "outputs": [
        {
          "output_type": "stream",
          "name": "stdout",
          "text": [
            "<class 'tuple'>\n"
          ]
        }
      ]
    },
    {
      "cell_type": "code",
      "source": [
        "#float- decimal numbers\n",
        "a=(1.34)\n",
        "print(type(a))"
      ],
      "metadata": {
        "colab": {
          "base_uri": "https://localhost:8080/"
        },
        "id": "PoTZ5y7GUYP6",
        "outputId": "b68a6d08-3cee-4fb8-a3a4-e50fdd25e649"
      },
      "execution_count": null,
      "outputs": [
        {
          "output_type": "stream",
          "name": "stdout",
          "text": [
            "<class 'float'>\n"
          ]
        }
      ]
    },
    {
      "cell_type": "code",
      "source": [
        "#complex-(real+imger values)\n",
        "a= 2+8j\n",
        "print(type(a))"
      ],
      "metadata": {
        "colab": {
          "base_uri": "https://localhost:8080/"
        },
        "id": "ByGzUxJGVBc6",
        "outputId": "b16c06eb-e0b2-42ba-a7da-bd591741f066"
      },
      "execution_count": null,
      "outputs": [
        {
          "output_type": "stream",
          "name": "stdout",
          "text": [
            "<class 'complex'>\n"
          ]
        }
      ]
    },
    {
      "cell_type": "code",
      "source": [
        "#boolen-(ture or flase)\n",
        "a=20\n",
        "b=(10)\n",
        "c=(a<b)\n",
        "print(c)\n",
        "print(type(c))"
      ],
      "metadata": {
        "colab": {
          "base_uri": "https://localhost:8080/"
        },
        "id": "Vte8vYF0VcBR",
        "outputId": "02b74c70-6545-4ecc-a15b-c42ee3afc213"
      },
      "execution_count": null,
      "outputs": [
        {
          "output_type": "stream",
          "name": "stdout",
          "text": [
            "False\n",
            "<class 'bool'>\n"
          ]
        }
      ]
    },
    {
      "cell_type": "markdown",
      "source": [
        "8) How do you convert a string to an integer in Python?\n",
        "\n",
        "  by use the built-in int() function to convert a Python string to an integer."
      ],
      "metadata": {
        "id": "RYZV1FhjKb1h"
      }
    },
    {
      "cell_type": "code",
      "source": [
        "a=(\"13\")\n",
        "a=int(a)\n",
        "print(a)\n",
        "print(type(a))"
      ],
      "metadata": {
        "colab": {
          "base_uri": "https://localhost:8080/"
        },
        "id": "d0fKdAftLO_-",
        "outputId": "5d33251c-33ec-4a6c-8fc5-ab1b04333617"
      },
      "execution_count": 7,
      "outputs": [
        {
          "output_type": "stream",
          "name": "stdout",
          "text": [
            "13\n",
            "<class 'int'>\n"
          ]
        }
      ]
    },
    {
      "cell_type": "markdown",
      "source": [
        "9) What is the difference between int and float?\n",
        "\n",
        "  the int -is used to identify the number in the variables\n",
        "  the float- is used to identify the decimal numbers in a variables."
      ],
      "metadata": {
        "id": "8xX3tOtnVuQr"
      }
    },
    {
      "cell_type": "code",
      "source": [
        "a= 30\n",
        "print(type(a))\n",
        "b= 2.6\n",
        "print(type(b))"
      ],
      "metadata": {
        "colab": {
          "base_uri": "https://localhost:8080/"
        },
        "id": "pNdQIes6WDOD",
        "outputId": "ea9df4b1-ab88-46ec-db38-3321f3519d90"
      },
      "execution_count": null,
      "outputs": [
        {
          "output_type": "stream",
          "name": "stdout",
          "text": [
            "<class 'int'>\n",
            "<class 'float'>\n"
          ]
        }
      ]
    },
    {
      "cell_type": "markdown",
      "source": [
        "10) How do you check the data type of a variable?\n",
        " we can check the data type are a varible by using type funtion()\n",
        "\n",
        "  by the type() funtion we can check the where the variable is a data type are not."
      ],
      "metadata": {
        "id": "aWzdEaQTWQHi"
      }
    },
    {
      "cell_type": "code",
      "source": [
        "a=(2,3,4)\n",
        "print(type(a))\n",
        "b= 2.6\n",
        "print(type(b))\n",
        "e=20\n",
        "d=(10)\n",
        "c=(e<d)\n",
        "print(c)\n",
        "print(type(c))"
      ],
      "metadata": {
        "colab": {
          "base_uri": "https://localhost:8080/"
        },
        "id": "V_PQX6IUWyxb",
        "outputId": "61f5a349-3a22-4506-bee7-23faaf1d224c"
      },
      "execution_count": null,
      "outputs": [
        {
          "output_type": "stream",
          "name": "stdout",
          "text": [
            "<class 'tuple'>\n",
            "<class 'float'>\n",
            "False\n",
            "<class 'bool'>\n"
          ]
        }
      ]
    },
    {
      "cell_type": "markdown",
      "source": [
        "11) How do you add an element to a list?\n",
        "\n",
        "   we can add a element by using append() operater\n",
        "\n",
        "   by using append() we can add element in end of list."
      ],
      "metadata": {
        "id": "FReCCBVbXBz5"
      }
    },
    {
      "cell_type": "code",
      "source": [
        "a=[1,2,3]\n",
        "a.append(4)\n",
        "print(a)"
      ],
      "metadata": {
        "colab": {
          "base_uri": "https://localhost:8080/"
        },
        "id": "7UiyKwjKXuyu",
        "outputId": "707f2eda-6f2f-4937-b5fe-4f8b8f6dde6a"
      },
      "execution_count": null,
      "outputs": [
        {
          "output_type": "stream",
          "name": "stdout",
          "text": [
            "[1, 2, 3, 4]\n"
          ]
        }
      ]
    },
    {
      "cell_type": "markdown",
      "source": [
        "12) How do you create a tuple with one element?\n",
        "\n",
        "   it will store the elements.\n",
        " * the tuple is defind by().\n",
        "  \n",
        "* it immutable .\n",
        "* unorder sequnces"
      ],
      "metadata": {
        "id": "ILBhh-l_YaZ_"
      }
    },
    {
      "cell_type": "code",
      "source": [
        "a=(1,2,34,5)\n",
        "print(type(a))"
      ],
      "metadata": {
        "colab": {
          "base_uri": "https://localhost:8080/"
        },
        "id": "oBSGnX6eYyOr",
        "outputId": "74f2ce6f-6d94-43ce-ae33-82d8b9c1190a"
      },
      "execution_count": null,
      "outputs": [
        {
          "output_type": "stream",
          "name": "stdout",
          "text": [
            "<class 'tuple'>\n"
          ]
        }
      ]
    },
    {
      "cell_type": "markdown",
      "source": [
        "14) How do you access elements in a list?\n",
        "  \n",
        "   to access the elements to the list we use different mathods to access the element\n",
        "    * the mathods are append(),copy(),remove(),revers(),pop(),sort(),max(),min(),\n",
        "    "
      ],
      "metadata": {
        "id": "89WfdNpTY_tT"
      }
    },
    {
      "cell_type": "code",
      "source": [
        "a=(1,2,3)\n",
        "a=list(a)\n",
        "print(a)"
      ],
      "metadata": {
        "colab": {
          "base_uri": "https://localhost:8080/"
        },
        "id": "dfu10ZveZ098",
        "outputId": "fedc5b89-d776-4827-8b33-0e1b7c2c5591"
      },
      "execution_count": 8,
      "outputs": [
        {
          "output_type": "stream",
          "name": "stdout",
          "text": [
            "[1, 2, 3]\n"
          ]
        }
      ]
    },
    {
      "cell_type": "markdown",
      "source": [
        "15) How do you access a character in a string?\n",
        "\n",
        "* individual characters of a String can be accessed by using the method of Indexing.\n",
        "* Indexing allows negative address references to access characters from the back of the String.\n",
        "* While accessing an index out of the range will cause an IndexError.\n",
        "* Only Integers are allowed to be passed as an index, float or other types that will cause a TypeError."
      ],
      "metadata": {
        "id": "_zEgY3v6Qmyt"
      }
    },
    {
      "cell_type": "markdown",
      "source": [
        "17) What is a tuple and how is it different from a list?\n",
        "\n",
        "* tuple is a list in an ordered collection of items,tThey are immutable, as once they are created they cannot be changed.\n",
        "* They can also contain duplicate element\n",
        "* list are unorered and can be mutable and if they are created they can be changed."
      ],
      "metadata": {
        "id": "syJs_OsaRZU6"
      }
    },
    {
      "cell_type": "markdown",
      "source": [
        "18) How do you concatenate two tuples?\n",
        "* combing the two tuples\n"
      ],
      "metadata": {
        "id": "yHcUMcZpTlCD"
      }
    },
    {
      "cell_type": "code",
      "source": [
        "a=(1,2,3,4)\n",
        "b=(3,6,4,3)\n",
        "c=a+b\n",
        "print(c)"
      ],
      "metadata": {
        "colab": {
          "base_uri": "https://localhost:8080/"
        },
        "id": "1q26aSMJUj5n",
        "outputId": "a5ff4778-e1c4-46d0-a99a-38b53ba4bcf7"
      },
      "execution_count": 9,
      "outputs": [
        {
          "output_type": "stream",
          "name": "stdout",
          "text": [
            "(1, 2, 3, 4, 3, 6, 4, 3)\n"
          ]
        }
      ]
    },
    {
      "cell_type": "markdown",
      "source": [
        "22) How do you add an element to a set?\n",
        " * Sets are used to store multiple items in a single variable"
      ],
      "metadata": {
        "id": "Hig_v-dBVErt"
      }
    },
    {
      "cell_type": "code",
      "source": [
        "a={1,2,3}\n",
        "a.add(4)\n",
        "print(a)"
      ],
      "metadata": {
        "colab": {
          "base_uri": "https://localhost:8080/"
        },
        "id": "6-z71UOCV62y",
        "outputId": "61993416-8738-4757-fae3-a8a4ad822f02"
      },
      "execution_count": 10,
      "outputs": [
        {
          "output_type": "stream",
          "name": "stdout",
          "text": [
            "{1, 2, 3, 4}\n"
          ]
        }
      ]
    },
    {
      "cell_type": "markdown",
      "source": [
        "23) How do you remove an element from a set?\n",
        " * by using dicard method we can remove the element in set."
      ],
      "metadata": {
        "id": "XFeIHIVpWBke"
      }
    },
    {
      "cell_type": "code",
      "source": [
        "a={1,2,3}\n",
        "a.discard(2)\n",
        "print(a)"
      ],
      "metadata": {
        "colab": {
          "base_uri": "https://localhost:8080/"
        },
        "id": "7E2wv1T0WWBz",
        "outputId": "04a46b74-33cd-4e46-afc2-c9df36e44447"
      },
      "execution_count": 11,
      "outputs": [
        {
          "output_type": "stream",
          "name": "stdout",
          "text": [
            "{1, 3}\n"
          ]
        }
      ]
    },
    {
      "cell_type": "markdown",
      "source": [
        "24)  What are the common set operations in Python?\n",
        " * union\n",
        " * intersection\n",
        " * difference\n",
        " * set_symmetric_difference"
      ],
      "metadata": {
        "id": "CQdzZQfrWw1H"
      }
    },
    {
      "cell_type": "markdown",
      "source": [
        "25) Write a Python program to find the index of an element in a tuple?\n",
        "\n",
        "   * index:- it used to find the position of the element or items"
      ],
      "metadata": {
        "id": "3sX0CM2RYHNE"
      }
    },
    {
      "cell_type": "code",
      "source": [
        "a=(1,2,3,4)\n",
        "a.index(2)"
      ],
      "metadata": {
        "colab": {
          "base_uri": "https://localhost:8080/"
        },
        "id": "Pff0mE5WYXDF",
        "outputId": "30a64ab0-b2ab-4bcf-ffdf-ab1f19a3475d"
      },
      "execution_count": 13,
      "outputs": [
        {
          "output_type": "execute_result",
          "data": {
            "text/plain": [
              "1"
            ]
          },
          "metadata": {},
          "execution_count": 13
        }
      ]
    }
  ]
}