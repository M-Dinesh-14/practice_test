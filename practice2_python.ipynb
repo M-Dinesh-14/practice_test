{
  "nbformat": 4,
  "nbformat_minor": 0,
  "metadata": {
    "colab": {
      "provenance": [],
      "authorship_tag": "ABX9TyOX/9oiAAIoKOTJZwKhULue",
      "include_colab_link": true
    },
    "kernelspec": {
      "name": "python3",
      "display_name": "Python 3"
    },
    "language_info": {
      "name": "python"
    }
  },
  "cells": [
    {
      "cell_type": "markdown",
      "metadata": {
        "id": "view-in-github",
        "colab_type": "text"
      },
      "source": [
        "<a href=\"https://colab.research.google.com/github/M-Dinesh-14/practice_test/blob/main/practice2_python.ipynb\" target=\"_parent\"><img src=\"https://colab.research.google.com/assets/colab-badge.svg\" alt=\"Open In Colab\"/></a>"
      ]
    },
    {
      "cell_type": "markdown",
      "source": [
        "--------------------------------------------------------------------------------------------------------------------"
      ],
      "metadata": {
        "id": "rlcqSdA5cb-p"
      }
    },
    {
      "cell_type": "markdown",
      "source": [
        "write a python program to identify given number is a prime or not ?\n"
      ],
      "metadata": {
        "id": "jB00eWenUr77"
      }
    },
    {
      "cell_type": "code",
      "source": [
        "number = [1, 2, 3, 4, 5]\n",
        "for num in number:\n",
        "    for i in range(2, int(num/2) + 1):\n",
        "        if num % i == 0:\n",
        "            print(f\"{num} is not prime\")\n",
        "            break\n",
        "    else:\n",
        "\n",
        "        if num > 0:\n",
        "            print(f\"{num} is prime\")\n",
        "\n",
        ""
      ],
      "metadata": {
        "colab": {
          "base_uri": "https://localhost:8080/"
        },
        "id": "duI5PPlMUswg",
        "outputId": "9e7bdf3d-8df2-44e2-c6fb-8db065772dab"
      },
      "execution_count": 24,
      "outputs": [
        {
          "output_type": "stream",
          "name": "stdout",
          "text": [
            "1 is prime\n",
            "2 is prime\n",
            "3 is prime\n",
            "4 is not prime\n",
            "5 is prime\n"
          ]
        }
      ]
    },
    {
      "cell_type": "code",
      "source": [],
      "metadata": {
        "id": "y5RNH17Dheo6"
      },
      "execution_count": null,
      "outputs": []
    },
    {
      "cell_type": "markdown",
      "source": [
        "write a python program to find  Fibonacci sequence of 5?"
      ],
      "metadata": {
        "id": "FBwyGPwNkoCa"
      }
    },
    {
      "cell_type": "code",
      "source": [
        "a=int(input(\"enter the number\"))\n",
        "number=5\n",
        "a=0\n",
        "b=1\n",
        "count=1\n",
        "for i in range(5):\n",
        "    print(a)\n",
        "    a=b\n",
        "    b=c\n",
        "    c=a+b\n",
        "    count+=1"
      ],
      "metadata": {
        "colab": {
          "base_uri": "https://localhost:8080/"
        },
        "id": "ur1ew77kkp2_",
        "outputId": "d2f945da-831b-4f90-8745-62bfe69104f5"
      },
      "execution_count": 40,
      "outputs": [
        {
          "output_type": "stream",
          "name": "stdout",
          "text": [
            "enter the number5\n",
            "0\n",
            "1\n",
            "13\n",
            "14\n",
            "27\n"
          ]
        }
      ]
    },
    {
      "cell_type": "markdown",
      "source": [
        "write a python program to find factorial number ?"
      ],
      "metadata": {
        "id": "5BvyTm89pWTv"
      }
    },
    {
      "cell_type": "code",
      "source": [
        "a=int(input(\"enter the number\"))\n",
        "b=1\n",
        "for i in range(1,a+1):\n",
        "    b=b*i\n",
        "print(b)"
      ],
      "metadata": {
        "colab": {
          "base_uri": "https://localhost:8080/"
        },
        "id": "HRG3fyyUpXNR",
        "outputId": "5548eeed-5121-4be8-a965-49e5f3d7b720"
      },
      "execution_count": 13,
      "outputs": [
        {
          "output_type": "stream",
          "name": "stdout",
          "text": [
            "enter the number5\n",
            "120\n"
          ]
        }
      ]
    },
    {
      "cell_type": "markdown",
      "source": [
        "write a python program to print multiplction table of a given number ?"
      ],
      "metadata": {
        "id": "g2NZSEGeruKd"
      }
    },
    {
      "cell_type": "code",
      "source": [
        "a = int(input(\"enter the number\"))\n",
        "for i in range(1,11):\n",
        "    print(a,\"*\",i,\"=\",a*i)\n",
        ""
      ],
      "metadata": {
        "colab": {
          "base_uri": "https://localhost:8080/"
        },
        "id": "0pbosBx8rvbr",
        "outputId": "df3fbd76-ea2a-446d-8aca-d06bb62e9ac5"
      },
      "execution_count": 19,
      "outputs": [
        {
          "output_type": "stream",
          "name": "stdout",
          "text": [
            "enter the number4\n",
            "4 * 1 = 4\n",
            "4 * 2 = 8\n",
            "4 * 3 = 12\n",
            "4 * 4 = 16\n",
            "4 * 5 = 20\n",
            "4 * 6 = 24\n",
            "4 * 7 = 28\n",
            "4 * 8 = 32\n",
            "4 * 9 = 36\n",
            "4 * 10 = 40\n"
          ]
        }
      ]
    },
    {
      "cell_type": "markdown",
      "source": [
        "write a python program to count total number of digits in a number?"
      ],
      "metadata": {
        "id": "xiZb6CzLtpVA"
      }
    },
    {
      "cell_type": "code",
      "source": [
        "from string import digits\n",
        "num = int(input(\"enter the number\"))\n",
        "count = 0\n",
        "for i in str(num):\n",
        "    count+=1\n",
        "print(count)"
      ],
      "metadata": {
        "colab": {
          "base_uri": "https://localhost:8080/"
        },
        "id": "bDKY8LMUtqpo",
        "outputId": "340c299b-b604-42f0-f0cd-f2d39b4d6d99"
      },
      "execution_count": 33,
      "outputs": [
        {
          "output_type": "stream",
          "name": "stdout",
          "text": [
            "enter the number143\n",
            "3\n"
          ]
        }
      ]
    },
    {
      "cell_type": "markdown",
      "source": [
        "write a python program to print list reveres using loop?"
      ],
      "metadata": {
        "id": "kk8ZN4fSwXMN"
      }
    },
    {
      "cell_type": "code",
      "source": [
        "list = [1,2,3,4,5]\n",
        "for i in range(len(list)-1,-1,-1):\n",
        "    print(list[i])"
      ],
      "metadata": {
        "colab": {
          "base_uri": "https://localhost:8080/"
        },
        "id": "YHfD-GFhxSqf",
        "outputId": "ca560425-3396-4a18-82f4-c74a80813f66"
      },
      "execution_count": 48,
      "outputs": [
        {
          "output_type": "stream",
          "name": "stdout",
          "text": [
            "5\n",
            "4\n",
            "3\n",
            "2\n",
            "1\n"
          ]
        }
      ]
    },
    {
      "cell_type": "markdown",
      "source": [
        "write a python program to display form -10 to -1?\n"
      ],
      "metadata": {
        "id": "gSP-kLywz2OE"
      }
    },
    {
      "cell_type": "code",
      "source": [
        "list = []\n",
        "for i in range(-10,0):\n",
        "    list.append(i)\n",
        "print(list)"
      ],
      "metadata": {
        "colab": {
          "base_uri": "https://localhost:8080/"
        },
        "id": "PoILDSVsy6k5",
        "outputId": "98c2e6d7-e396-4ee5-91a5-7f8580cc3c17"
      },
      "execution_count": 51,
      "outputs": [
        {
          "output_type": "stream",
          "name": "stdout",
          "text": [
            "[-10, -9, -8, -7, -6, -5, -4, -3, -2, -1]\n"
          ]
        }
      ]
    }
  ]
}