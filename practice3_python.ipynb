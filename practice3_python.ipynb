{
  "nbformat": 4,
  "nbformat_minor": 0,
  "metadata": {
    "colab": {
      "provenance": [],
      "authorship_tag": "ABX9TyPTEDPGF5pmlX7UqXsvkje9",
      "include_colab_link": true
    },
    "kernelspec": {
      "name": "python3",
      "display_name": "Python 3"
    },
    "language_info": {
      "name": "python"
    }
  },
  "cells": [
    {
      "cell_type": "markdown",
      "metadata": {
        "id": "view-in-github",
        "colab_type": "text"
      },
      "source": [
        "<a href=\"https://colab.research.google.com/github/M-Dinesh-14/practice_test/blob/main/practice3_python.ipynb\" target=\"_parent\"><img src=\"https://colab.research.google.com/assets/colab-badge.svg\" alt=\"Open In Colab\"/></a>"
      ]
    },
    {
      "cell_type": "code",
      "execution_count": null,
      "metadata": {
        "id": "r00coOnkNP8O"
      },
      "outputs": [],
      "source": []
    },
    {
      "cell_type": "markdown",
      "source": [
        "1) write a python program to display the food iteams veg and non veg to user and also display if there no food iteams print we are not serving the food"
      ],
      "metadata": {
        "id": "9OuHSkKBpgMn"
      }
    },
    {
      "cell_type": "code",
      "source": [
        "user = input(\"enter the food iteam \")\n",
        "name = (\"vamsi restaurent\")\n",
        "print(name)\n",
        "veg_list = ['Palak paneer','Paneer tikka','Dal Makhani']\n",
        "non_veg_list = ['Butter chicken','Tandoori chicken','Mutton curry']\n",
        "def food(user):\n",
        "  if user in veg_list:\n",
        "    print(f'yes we have {user} and also we have other food items in veg ')\n",
        "    for x in veg_list:\n",
        "      print(x)\n",
        "  elif user in non_veg_list:\n",
        "    print(f'yes we have {user} and  also we have other food items in non_veg ')\n",
        "    for x in non_veg_list:\n",
        "      print(x)\n",
        "  else:\n",
        "    print(\"no we do not serve this food\")\n",
        "food(user)"
      ],
      "metadata": {
        "colab": {
          "base_uri": "https://localhost:8080/"
        },
        "id": "-GnAWUwwqC57",
        "outputId": "2f431f08-3c77-4e5f-b994-4ebfbca31920"
      },
      "execution_count": null,
      "outputs": [
        {
          "output_type": "stream",
          "name": "stdout",
          "text": [
            "enter the food iteam Palak paneer\n",
            "vamsi restaurent\n",
            "yes we have Palak paneer and also we have other food items in veg \n",
            "Palak paneer\n",
            "Paneer tikka\n",
            "Dal Makhani\n"
          ]
        }
      ]
    },
    {
      "cell_type": "markdown",
      "source": [
        "\n",
        "\n",
        "---\n",
        "\n",
        "\n",
        "\n",
        "---\n"
      ],
      "metadata": {
        "id": "8ozTI8DbxR_Q"
      }
    },
    {
      "cell_type": "markdown",
      "source": [
        "2) write a python program to check the number is prime or not by using funtions."
      ],
      "metadata": {
        "id": "07GC59H_Hcjn"
      }
    },
    {
      "cell_type": "code",
      "source": [
        "def prime():\n",
        "  num = int(input(\"enter the number\"))\n",
        "  if num > 1:\n",
        "    for i in range(2, int(num/2) + 1):\n",
        "      if (num % i) == 0:\n",
        "        print(num,\"is not a prime number\")\n",
        "        break\n",
        "    else:\n",
        "      print(num,\"is a prime number\")\n",
        "prime()\n",
        "\n",
        "\n"
      ],
      "metadata": {
        "colab": {
          "base_uri": "https://localhost:8080/"
        },
        "id": "nNV88RJlHd7X",
        "outputId": "5a30ff9d-cc7a-4bac-c636-ce9e17412e50"
      },
      "execution_count": null,
      "outputs": [
        {
          "output_type": "stream",
          "name": "stdout",
          "text": [
            "enter the number3\n",
            "3 is a prime number\n"
          ]
        }
      ]
    },
    {
      "cell_type": "markdown",
      "source": [
        "3) print the following number pattern."
      ],
      "metadata": {
        "id": "EltZ8oYoJ4KL"
      }
    },
    {
      "cell_type": "code",
      "source": [
        "user = int(input(\"enter the number\"))\n",
        "for i in range(1,user+1):\n",
        "  for j in range(1,i+1):\n",
        "    print(j,end=\" \")\n",
        "  print()"
      ],
      "metadata": {
        "colab": {
          "base_uri": "https://localhost:8080/"
        },
        "id": "eVPUzWcgJ5F-",
        "outputId": "11c334e1-29a3-4dd9-b4c1-48dbe18e512e"
      },
      "execution_count": null,
      "outputs": [
        {
          "output_type": "stream",
          "name": "stdout",
          "text": [
            "enter the number5\n",
            "1 \n",
            "1 2 \n",
            "1 2 3 \n",
            "1 2 3 4 \n",
            "1 2 3 4 5 \n"
          ]
        }
      ]
    },
    {
      "cell_type": "markdown",
      "source": [
        "4) write a python program to convert celsius to fahrenit."
      ],
      "metadata": {
        "id": "62mLDz1VL2Lx"
      }
    },
    {
      "cell_type": "code",
      "source": [
        "user= float(input(\"enter the celsius\"))# to convert celsius to fahrenit\n",
        "celsius = (user*9/5)+32\n",
        "print(celsius)"
      ],
      "metadata": {
        "colab": {
          "base_uri": "https://localhost:8080/"
        },
        "id": "O35XqBDNL95x",
        "outputId": "79e37695-c1bf-4161-9a80-345db4205fc1"
      },
      "execution_count": null,
      "outputs": [
        {
          "output_type": "stream",
          "name": "stdout",
          "text": [
            "enter the celsius40\n",
            "104.0\n"
          ]
        }
      ]
    },
    {
      "cell_type": "markdown",
      "source": [
        "5) write a python program to calculate simple interest."
      ],
      "metadata": {
        "id": "tT0Mbb1iNUvb"
      }
    },
    {
      "cell_type": "code",
      "source": [
        "user = int(input(\"enter the principal amount\"))\n",
        "user1 = int(input(\"enter the rate of interest\"))\n",
        "user2 = int(input(\"enter the time period\"))\n",
        "simple_interest = (user*user1*user2)/100\n",
        "print(simple_interest)"
      ],
      "metadata": {
        "colab": {
          "base_uri": "https://localhost:8080/"
        },
        "id": "wsavUhrSOGjm",
        "outputId": "476564a7-952b-4ed9-f20c-57e5310cf9e3"
      },
      "execution_count": null,
      "outputs": [
        {
          "output_type": "stream",
          "name": "stdout",
          "text": [
            "enter the principal amount5000\n",
            "enter the rate of interest2\n",
            "enter the time period12\n",
            "1200.0\n"
          ]
        }
      ]
    },
    {
      "cell_type": "markdown",
      "source": [
        "6) convert integer into decimal number?"
      ],
      "metadata": {
        "id": "X1B54zPxpBS0"
      }
    },
    {
      "cell_type": "code",
      "source": [
        "number = 56\n",
        "a=float(number)\n",
        "print(a)"
      ],
      "metadata": {
        "id": "aDcbtEwPOnji",
        "colab": {
          "base_uri": "https://localhost:8080/"
        },
        "outputId": "5ceec2c2-3117-4454-fdf0-f93a48a7ed3a"
      },
      "execution_count": null,
      "outputs": [
        {
          "output_type": "stream",
          "name": "stdout",
          "text": [
            "56.0\n"
          ]
        }
      ]
    },
    {
      "cell_type": "markdown",
      "source": [
        "7) write a program to check the number amstrong or not ?.\n"
      ],
      "metadata": {
        "id": "ytUPT1Z8pHo5"
      }
    },
    {
      "cell_type": "code",
      "source": [
        "\n",
        "user = int(input(\"enter the number\"))\n",
        "\n",
        "a = user\n",
        "sum = 0\n",
        "while user > 0:\n",
        "  rem = user % 10\n",
        "  sum = sum + (rem * rem * rem)\n",
        "  user = user // 10\n",
        "if sum == a:\n",
        "  print(\"number is amstrong\")\n",
        "else:\n",
        "  print(\"number is not amstrong\")"
      ],
      "metadata": {
        "colab": {
          "base_uri": "https://localhost:8080/"
        },
        "id": "uHU5VfUypZCS",
        "outputId": "384e443f-6b0d-4cb7-c7ff-7a013509b8a1"
      },
      "execution_count": null,
      "outputs": [
        {
          "output_type": "stream",
          "name": "stdout",
          "text": [
            "enter the number153\n",
            "number is amstrong\n"
          ]
        }
      ]
    },
    {
      "cell_type": "markdown",
      "source": [
        "8) to remove duplicate numbers form the list ?\n",
        "\n",
        "\n"
      ],
      "metadata": {
        "id": "66XHV_JEq_Ly"
      }
    },
    {
      "cell_type": "code",
      "source": [
        "list = [1,2,3,3,2,4,1,2,3]\n",
        "list1 = []\n",
        "for i in list:\n",
        "  if i in list1:\n",
        "    continue\n",
        "  else:\n",
        "    list1.append(i)\n",
        "print(list1)"
      ],
      "metadata": {
        "colab": {
          "base_uri": "https://localhost:8080/"
        },
        "id": "UAwPCiB6rJA6",
        "outputId": "b4cf8087-b073-47d2-a19c-0618c90ca7b6"
      },
      "execution_count": null,
      "outputs": [
        {
          "output_type": "stream",
          "name": "stdout",
          "text": [
            "[1, 2, 3, 4]\n"
          ]
        }
      ]
    },
    {
      "cell_type": "markdown",
      "source": [
        "9) write a program to check the character is digit not?\n"
      ],
      "metadata": {
        "id": "x_E9DWnm6Wk6"
      }
    },
    {
      "cell_type": "code",
      "source": [
        "char = input(\"enter the number:\")\n",
        "for i in char:\n",
        "  if i.isdigit():\n",
        "        print(i,\" = is digit\")\n",
        "  elif i.isalpha():\n",
        "        print(i,\" = is alpha\")\n",
        "\n",
        "  else:\n",
        "        print(\"Error\")"
      ],
      "metadata": {
        "colab": {
          "base_uri": "https://localhost:8080/"
        },
        "id": "YrBWpoqd9IOj",
        "outputId": "3497850b-633c-4d07-d608-dc690f6d50c0"
      },
      "execution_count": null,
      "outputs": [
        {
          "output_type": "stream",
          "name": "stdout",
          "text": [
            "enter the number:dinesh123\n",
            "d  = is alpha\n",
            "i  = is alpha\n",
            "n  = is alpha\n",
            "e  = is alpha\n",
            "s  = is alpha\n",
            "h  = is alpha\n",
            "1  = is digit\n",
            "2  = is digit\n",
            "3  = is digit\n"
          ]
        }
      ]
    },
    {
      "cell_type": "markdown",
      "source": [
        "11) write a program to GCD of two numbers?"
      ],
      "metadata": {
        "id": "bWqVP4uu-ESh"
      }
    },
    {
      "cell_type": "code",
      "source": [
        "def gcd(a, b):\n",
        "    while b != 0:\n",
        "        a, b = b, a % b\n",
        "    print(a)\n",
        "\n",
        "\n",
        "num1 = int(input(\"Enter the first number: \"))\n",
        "num2 = int(input(\"Enter the second number: \"))\n",
        "\n",
        "result = gcd(num1, num2)\n"
      ],
      "metadata": {
        "colab": {
          "base_uri": "https://localhost:8080/"
        },
        "id": "n0kxaYd4-PCw",
        "outputId": "e1e5032e-781c-4e98-a176-492785f016db"
      },
      "execution_count": null,
      "outputs": [
        {
          "output_type": "stream",
          "name": "stdout",
          "text": [
            "Enter the first number: 23\n",
            "Enter the second number: 56\n",
            "1\n"
          ]
        }
      ]
    },
    {
      "cell_type": "markdown",
      "source": [
        "12) write a python program to Replace character in place of space?"
      ],
      "metadata": {
        "id": "DwblhXN4_agV"
      }
    },
    {
      "cell_type": "code",
      "source": [
        "a = input(\"Enter the string: \")\n",
        "b = input(\"Enter the replacing character: \")\n",
        "\n",
        "replacing_c = b.replace(\" \", a)\n",
        "\n",
        "print(replacing_c)"
      ],
      "metadata": {
        "colab": {
          "base_uri": "https://localhost:8080/"
        },
        "id": "y_RvFFnl_lPs",
        "outputId": "1bc8caad-7ceb-4c80-c98b-067c2eeeb4a2"
      },
      "execution_count": null,
      "outputs": [
        {
          "output_type": "stream",
          "name": "stdout",
          "text": [
            "Enter the string: nani\n",
            "Enter the replacing character: chinnu\n",
            "chinnu\n"
          ]
        }
      ]
    },
    {
      "cell_type": "markdown",
      "source": [
        "13) write a python program Swap 2 numbers without using third parameter?"
      ],
      "metadata": {
        "id": "MkGyvKN9AOl0"
      }
    },
    {
      "cell_type": "code",
      "source": [
        "a=input(\"enter the number\")\n",
        "b=input(\"enter the number\")\n",
        "a,b=b,a\n",
        "print(a,b)"
      ],
      "metadata": {
        "colab": {
          "base_uri": "https://localhost:8080/"
        },
        "id": "48c1-hNiAWtA",
        "outputId": "f61d4d66-beb7-4854-c8b4-a7ee2e5127f1"
      },
      "execution_count": null,
      "outputs": [
        {
          "output_type": "stream",
          "name": "stdout",
          "text": [
            "enter the number2\n",
            "enter the number3\n",
            "3 2\n"
          ]
        }
      ]
    },
    {
      "cell_type": "markdown",
      "source": [
        "14) write a python program to add 2 numbers without using any arithmetic operator?"
      ],
      "metadata": {
        "id": "u0MulGyiDd9A"
      }
    },
    {
      "cell_type": "code",
      "source": [
        "a=int(input(\"enter the number\"))\n",
        "b=int(input(\"enter the number\"))\n",
        "num=sum([a,b])\n",
        "print(f\"3 {num}\")\n"
      ],
      "metadata": {
        "colab": {
          "base_uri": "https://localhost:8080/"
        },
        "id": "rkYUb95jDtFt",
        "outputId": "e175d98d-42f8-4d9c-9bb5-9e08572c56ac"
      },
      "execution_count": null,
      "outputs": [
        {
          "output_type": "stream",
          "name": "stdout",
          "text": [
            "enter the number2\n",
            "enter the number3\n",
            " 5\n"
          ]
        }
      ]
    },
    {
      "cell_type": "markdown",
      "source": [
        "15) write a python program first non repeating occurence."
      ],
      "metadata": {
        "id": "jvnqhbvfMEZI"
      }
    },
    {
      "cell_type": "code",
      "source": [
        "a = input(\"Enter the string: \")\n",
        "for i in a:\n",
        "    if a.count(i)==1:\n",
        "        print(f'{i} is the first non-repeating of the string')\n",
        "        break\n",
        "else:\n",
        "    print(f\"There are no first non-repeating\")"
      ],
      "metadata": {
        "colab": {
          "base_uri": "https://localhost:8080/"
        },
        "id": "k2kSmAb7MMpP",
        "outputId": "00e9502f-bc1a-4e1b-b1b6-a32ef39b78c3"
      },
      "execution_count": null,
      "outputs": [
        {
          "output_type": "stream",
          "name": "stdout",
          "text": [
            "Enter the string: 121\n",
            "2 is the first non-repeating of the string\n"
          ]
        }
      ]
    }
  ]
}