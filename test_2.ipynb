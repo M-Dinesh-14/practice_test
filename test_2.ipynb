{
  "nbformat": 4,
  "nbformat_minor": 0,
  "metadata": {
    "colab": {
      "provenance": [],
      "authorship_tag": "ABX9TyM8nChzygQeCnpns2Em1egI",
      "include_colab_link": true
    },
    "kernelspec": {
      "name": "python3",
      "display_name": "Python 3"
    },
    "language_info": {
      "name": "python"
    }
  },
  "cells": [
    {
      "cell_type": "markdown",
      "metadata": {
        "id": "view-in-github",
        "colab_type": "text"
      },
      "source": [
        "<a href=\"https://colab.research.google.com/github/M-Dinesh-14/practice_test/blob/main/test_2.ipynb\" target=\"_parent\"><img src=\"https://colab.research.google.com/assets/colab-badge.svg\" alt=\"Open In Colab\"/></a>"
      ]
    },
    {
      "cell_type": "markdown",
      "source": [
        "\n",
        "\n",
        "1)  write the rules for creating variables?\n",
        " * we should state variable with alphabit and it can't use digit number.\n",
        " * we can't use the key words in the variables.\n",
        " * we can't use specal charecter and we can use only (_).\n",
        " * there case sencitve.\n",
        "\n",
        "2)   what is type() funtion.\n",
        "\n",
        " * type() is used to find the funtion or a data type in a program.\n"
      ],
      "metadata": {
        "id": "t3L_07bNRgZl"
      }
    },
    {
      "cell_type": "code",
      "source": [
        "a=[1,2,3,4]\n",
        "print(type(a))\n"
      ],
      "metadata": {
        "colab": {
          "base_uri": "https://localhost:8080/"
        },
        "id": "i_SGNKERTSXu",
        "outputId": "62306ef8-6d4e-4cde-d97d-8f4bb31f1140"
      },
      "execution_count": 1,
      "outputs": [
        {
          "output_type": "stream",
          "name": "stdout",
          "text": [
            "<class 'list'>\n"
          ]
        }
      ]
    },
    {
      "cell_type": "markdown",
      "source": [
        "3) what is difference b/w '=' and '=='\n",
        "\n",
        "* = is used to assin the value to the object or a variable\n",
        "* == is used to comper the two variable .\n",
        "\n",
        "4) what is the difference b/w mutable and in immutable ?\n",
        "\n",
        "* mutable is mean to we can change the value or funtion in the progarm\n",
        "* immutable is used to can't change the funtion in the program."
      ],
      "metadata": {
        "id": "xtg_HESFTxRb"
      }
    },
    {
      "cell_type": "code",
      "source": [],
      "metadata": {
        "id": "haykJWPCTnYy"
      },
      "execution_count": null,
      "outputs": []
    },
    {
      "cell_type": "markdown",
      "source": [
        "write a python code to print first 10 natural numbers?\n"
      ],
      "metadata": {
        "id": "aTIXJ27dXj3F"
      }
    },
    {
      "cell_type": "code",
      "source": [
        "user = int(input(\"enter the number\"))\n",
        "i= 1\n",
        "while i<=user:\n",
        "  print(i)\n",
        "  i+=1\n",
        "\n",
        "\n",
        "\n"
      ],
      "metadata": {
        "colab": {
          "base_uri": "https://localhost:8080/"
        },
        "id": "aI57E9pvXt9I",
        "outputId": "0c4d5cf9-4b4e-42cc-cb68-c918f86984ac"
      },
      "execution_count": 14,
      "outputs": [
        {
          "output_type": "stream",
          "name": "stdout",
          "text": [
            "enter the number10\n",
            "1\n",
            "2\n",
            "3\n",
            "4\n",
            "5\n",
            "6\n",
            "7\n",
            "8\n",
            "9\n",
            "10\n"
          ]
        }
      ]
    },
    {
      "cell_type": "markdown",
      "source": [
        "write a python program sum of first 10 natural numbers\n",
        "\n"
      ],
      "metadata": {
        "id": "e_Ucg8_0ZvCF"
      }
    },
    {
      "cell_type": "code",
      "source": [
        "i= 1\n",
        "sum=0\n",
        "while i<= 10:\n",
        "  sum+=i\n",
        "  i+=1\n",
        "print(sum)"
      ],
      "metadata": {
        "colab": {
          "base_uri": "https://localhost:8080/"
        },
        "id": "E-SSksq9Z9hY",
        "outputId": "8823e511-b3c0-4382-bb8d-5bdaeda9759e"
      },
      "execution_count": 21,
      "outputs": [
        {
          "output_type": "stream",
          "name": "stdout",
          "text": [
            "55\n"
          ]
        }
      ]
    },
    {
      "cell_type": "code",
      "source": [
        "a=[1,2,3,4,5,6,7,8,9,10]\n",
        "sum=0\n",
        "for i in a:\n",
        "  sum+=i\n",
        "print(sum)"
      ],
      "metadata": {
        "colab": {
          "base_uri": "https://localhost:8080/"
        },
        "id": "007hYO7gbQDy",
        "outputId": "a0b1d500-9bc2-4a5a-907c-5ed06d557ac4"
      },
      "execution_count": 31,
      "outputs": [
        {
          "output_type": "stream",
          "name": "stdout",
          "text": [
            "55\n"
          ]
        }
      ]
    },
    {
      "cell_type": "code",
      "source": [],
      "metadata": {
        "id": "GVhYmPewbVb5"
      },
      "execution_count": null,
      "outputs": []
    },
    {
      "cell_type": "markdown",
      "source": [],
      "metadata": {
        "id": "MT19omxNcXqK"
      }
    }
  ]
}